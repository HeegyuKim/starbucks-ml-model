{
 "cells": [
  {
   "cell_type": "code",
   "execution_count": 1,
   "metadata": {},
   "outputs": [],
   "source": [
    "import pandas as pd\n",
    "import numpy as np\n",
    "import math\n",
    "import json\n",
    "%matplotlib inline\n",
    "\n",
    "# read in the json files\n",
    "portfolio = pd.read_json('data/portfolio.json', orient='records', lines=True)\n",
    "profile = pd.read_json('data/profile.json', orient='records', lines=True)\n",
    "transcript = pd.read_json('data/transcript.json', orient='records', lines=True)"
   ]
  },
  {
   "cell_type": "code",
   "execution_count": 16,
   "metadata": {},
   "outputs": [
    {
     "data": {
      "text/html": [
       "<div>\n",
       "<style scoped>\n",
       "    .dataframe tbody tr th:only-of-type {\n",
       "        vertical-align: middle;\n",
       "    }\n",
       "\n",
       "    .dataframe tbody tr th {\n",
       "        vertical-align: top;\n",
       "    }\n",
       "\n",
       "    .dataframe thead th {\n",
       "        text-align: right;\n",
       "    }\n",
       "</style>\n",
       "<table border=\"1\" class=\"dataframe\">\n",
       "  <thead>\n",
       "    <tr style=\"text-align: right;\">\n",
       "      <th></th>\n",
       "      <th>person</th>\n",
       "      <th>event</th>\n",
       "      <th>value</th>\n",
       "      <th>time</th>\n",
       "    </tr>\n",
       "  </thead>\n",
       "  <tbody>\n",
       "    <tr>\n",
       "      <th>0</th>\n",
       "      <td>02c083884c7d45b39cc68e1314fec56c</td>\n",
       "      <td>transaction</td>\n",
       "      <td>0.83</td>\n",
       "      <td>0</td>\n",
       "    </tr>\n",
       "    <tr>\n",
       "      <th>1</th>\n",
       "      <td>9fa9ae8f57894cc9a3b8a9bbe0fc1b2f</td>\n",
       "      <td>transaction</td>\n",
       "      <td>34.56</td>\n",
       "      <td>0</td>\n",
       "    </tr>\n",
       "    <tr>\n",
       "      <th>2</th>\n",
       "      <td>54890f68699049c2a04d415abc25e717</td>\n",
       "      <td>transaction</td>\n",
       "      <td>13.23</td>\n",
       "      <td>0</td>\n",
       "    </tr>\n",
       "    <tr>\n",
       "      <th>3</th>\n",
       "      <td>b2f1cd155b864803ad8334cdf13c4bd2</td>\n",
       "      <td>transaction</td>\n",
       "      <td>19.51</td>\n",
       "      <td>0</td>\n",
       "    </tr>\n",
       "    <tr>\n",
       "      <th>4</th>\n",
       "      <td>fe97aa22dd3e48c8b143116a8403dd52</td>\n",
       "      <td>transaction</td>\n",
       "      <td>18.97</td>\n",
       "      <td>0</td>\n",
       "    </tr>\n",
       "    <tr>\n",
       "      <th>...</th>\n",
       "      <td>...</td>\n",
       "      <td>...</td>\n",
       "      <td>...</td>\n",
       "      <td>...</td>\n",
       "    </tr>\n",
       "    <tr>\n",
       "      <th>138948</th>\n",
       "      <td>b3a1272bc9904337b331bf348c3e8c17</td>\n",
       "      <td>transaction</td>\n",
       "      <td>1.59</td>\n",
       "      <td>714</td>\n",
       "    </tr>\n",
       "    <tr>\n",
       "      <th>138949</th>\n",
       "      <td>68213b08d99a4ae1b0dcb72aebd9aa35</td>\n",
       "      <td>transaction</td>\n",
       "      <td>9.53</td>\n",
       "      <td>714</td>\n",
       "    </tr>\n",
       "    <tr>\n",
       "      <th>138950</th>\n",
       "      <td>a00058cf10334a308c68e7631c529907</td>\n",
       "      <td>transaction</td>\n",
       "      <td>3.61</td>\n",
       "      <td>714</td>\n",
       "    </tr>\n",
       "    <tr>\n",
       "      <th>138951</th>\n",
       "      <td>76ddbd6576844afe811f1a3c0fbb5bec</td>\n",
       "      <td>transaction</td>\n",
       "      <td>3.53</td>\n",
       "      <td>714</td>\n",
       "    </tr>\n",
       "    <tr>\n",
       "      <th>138952</th>\n",
       "      <td>c02b10e8752c4d8e9b73f918558531f7</td>\n",
       "      <td>transaction</td>\n",
       "      <td>4.05</td>\n",
       "      <td>714</td>\n",
       "    </tr>\n",
       "  </tbody>\n",
       "</table>\n",
       "<p>138953 rows × 4 columns</p>\n",
       "</div>"
      ],
      "text/plain": [
       "                                  person        event  value  time\n",
       "0       02c083884c7d45b39cc68e1314fec56c  transaction   0.83     0\n",
       "1       9fa9ae8f57894cc9a3b8a9bbe0fc1b2f  transaction  34.56     0\n",
       "2       54890f68699049c2a04d415abc25e717  transaction  13.23     0\n",
       "3       b2f1cd155b864803ad8334cdf13c4bd2  transaction  19.51     0\n",
       "4       fe97aa22dd3e48c8b143116a8403dd52  transaction  18.97     0\n",
       "...                                  ...          ...    ...   ...\n",
       "138948  b3a1272bc9904337b331bf348c3e8c17  transaction   1.59   714\n",
       "138949  68213b08d99a4ae1b0dcb72aebd9aa35  transaction   9.53   714\n",
       "138950  a00058cf10334a308c68e7631c529907  transaction   3.61   714\n",
       "138951  76ddbd6576844afe811f1a3c0fbb5bec  transaction   3.53   714\n",
       "138952  c02b10e8752c4d8e9b73f918558531f7  transaction   4.05   714\n",
       "\n",
       "[138953 rows x 4 columns]"
      ]
     },
     "execution_count": 16,
     "metadata": {},
     "output_type": "execute_result"
    }
   ],
   "source": [
    "transactions = transcript[transcript.event == \"transaction\"].reset_index()\n",
    "amount = transactions.value.apply(lambda x: x['amount'])\n",
    "transactions.value = amount\n",
    "transactions = transactions[['person', 'event', 'value', 'time']]\n",
    "transactions.to_csv(\"data/transaction.csv\")\n",
    "transactions"
   ]
  },
  {
   "cell_type": "code",
   "execution_count": 5,
   "metadata": {},
   "outputs": [
    {
     "data": {
      "text/html": [
       "<div>\n",
       "<style scoped>\n",
       "    .dataframe tbody tr th:only-of-type {\n",
       "        vertical-align: middle;\n",
       "    }\n",
       "\n",
       "    .dataframe tbody tr th {\n",
       "        vertical-align: top;\n",
       "    }\n",
       "\n",
       "    .dataframe thead th {\n",
       "        text-align: right;\n",
       "    }\n",
       "</style>\n",
       "<table border=\"1\" class=\"dataframe\">\n",
       "  <thead>\n",
       "    <tr style=\"text-align: right;\">\n",
       "      <th></th>\n",
       "      <th>person</th>\n",
       "      <th>event</th>\n",
       "      <th>offer_id</th>\n",
       "      <th>time</th>\n",
       "      <th>reward</th>\n",
       "    </tr>\n",
       "  </thead>\n",
       "  <tbody>\n",
       "    <tr>\n",
       "      <th>0</th>\n",
       "      <td>78afa995795e4d85b5d9ceeca43f5fef</td>\n",
       "      <td>offer received</td>\n",
       "      <td>9b98b8c7a33c4b65b9aebfe6a799e6d9</td>\n",
       "      <td>0</td>\n",
       "      <td>NaN</td>\n",
       "    </tr>\n",
       "    <tr>\n",
       "      <th>1</th>\n",
       "      <td>a03223e636434f42ac4c3df47e8bac43</td>\n",
       "      <td>offer received</td>\n",
       "      <td>0b1e1539f2cc45b7b9fa7c272da2e1d7</td>\n",
       "      <td>0</td>\n",
       "      <td>NaN</td>\n",
       "    </tr>\n",
       "    <tr>\n",
       "      <th>2</th>\n",
       "      <td>e2127556f4f64592b11af22de27a7932</td>\n",
       "      <td>offer received</td>\n",
       "      <td>2906b810c7d4411798c6938adc9daaa5</td>\n",
       "      <td>0</td>\n",
       "      <td>NaN</td>\n",
       "    </tr>\n",
       "    <tr>\n",
       "      <th>3</th>\n",
       "      <td>8ec6ce2a7e7949b1bf142def7d0e0586</td>\n",
       "      <td>offer received</td>\n",
       "      <td>fafdcd668e3743c1bb461111dcafc2a4</td>\n",
       "      <td>0</td>\n",
       "      <td>NaN</td>\n",
       "    </tr>\n",
       "    <tr>\n",
       "      <th>4</th>\n",
       "      <td>68617ca6246f4fbc85e91a2a49552598</td>\n",
       "      <td>offer received</td>\n",
       "      <td>4d5c57ea9a6940dd891ad53e9dbe8da0</td>\n",
       "      <td>0</td>\n",
       "      <td>NaN</td>\n",
       "    </tr>\n",
       "  </tbody>\n",
       "</table>\n",
       "</div>"
      ],
      "text/plain": [
       "                             person           event  \\\n",
       "0  78afa995795e4d85b5d9ceeca43f5fef  offer received   \n",
       "1  a03223e636434f42ac4c3df47e8bac43  offer received   \n",
       "2  e2127556f4f64592b11af22de27a7932  offer received   \n",
       "3  8ec6ce2a7e7949b1bf142def7d0e0586  offer received   \n",
       "4  68617ca6246f4fbc85e91a2a49552598  offer received   \n",
       "\n",
       "                           offer_id  time  reward  \n",
       "0  9b98b8c7a33c4b65b9aebfe6a799e6d9     0     NaN  \n",
       "1  0b1e1539f2cc45b7b9fa7c272da2e1d7     0     NaN  \n",
       "2  2906b810c7d4411798c6938adc9daaa5     0     NaN  \n",
       "3  fafdcd668e3743c1bb461111dcafc2a4     0     NaN  \n",
       "4  4d5c57ea9a6940dd891ad53e9dbe8da0     0     NaN  "
      ]
     },
     "execution_count": 5,
     "metadata": {},
     "output_type": "execute_result"
    }
   ],
   "source": [
    "offers = pd.read_csv(\"data/offers.csv\", index_col=0)\n",
    "offers.head()"
   ]
  },
  {
   "cell_type": "code",
   "execution_count": 6,
   "metadata": {},
   "outputs": [
    {
     "data": {
      "text/html": [
       "<div>\n",
       "<style scoped>\n",
       "    .dataframe tbody tr th:only-of-type {\n",
       "        vertical-align: middle;\n",
       "    }\n",
       "\n",
       "    .dataframe tbody tr th {\n",
       "        vertical-align: top;\n",
       "    }\n",
       "\n",
       "    .dataframe thead th {\n",
       "        text-align: right;\n",
       "    }\n",
       "</style>\n",
       "<table border=\"1\" class=\"dataframe\">\n",
       "  <thead>\n",
       "    <tr style=\"text-align: right;\">\n",
       "      <th></th>\n",
       "      <th>time</th>\n",
       "      <th>reward</th>\n",
       "    </tr>\n",
       "  </thead>\n",
       "  <tbody>\n",
       "    <tr>\n",
       "      <th>count</th>\n",
       "      <td>167581.000000</td>\n",
       "      <td>33579.000000</td>\n",
       "    </tr>\n",
       "    <tr>\n",
       "      <th>mean</th>\n",
       "      <td>353.778412</td>\n",
       "      <td>4.904137</td>\n",
       "    </tr>\n",
       "    <tr>\n",
       "      <th>std</th>\n",
       "      <td>198.301287</td>\n",
       "      <td>2.886647</td>\n",
       "    </tr>\n",
       "    <tr>\n",
       "      <th>min</th>\n",
       "      <td>0.000000</td>\n",
       "      <td>2.000000</td>\n",
       "    </tr>\n",
       "    <tr>\n",
       "      <th>25%</th>\n",
       "      <td>168.000000</td>\n",
       "      <td>2.000000</td>\n",
       "    </tr>\n",
       "    <tr>\n",
       "      <th>50%</th>\n",
       "      <td>408.000000</td>\n",
       "      <td>5.000000</td>\n",
       "    </tr>\n",
       "    <tr>\n",
       "      <th>75%</th>\n",
       "      <td>510.000000</td>\n",
       "      <td>5.000000</td>\n",
       "    </tr>\n",
       "    <tr>\n",
       "      <th>max</th>\n",
       "      <td>714.000000</td>\n",
       "      <td>10.000000</td>\n",
       "    </tr>\n",
       "  </tbody>\n",
       "</table>\n",
       "</div>"
      ],
      "text/plain": [
       "                time        reward\n",
       "count  167581.000000  33579.000000\n",
       "mean      353.778412      4.904137\n",
       "std       198.301287      2.886647\n",
       "min         0.000000      2.000000\n",
       "25%       168.000000      2.000000\n",
       "50%       408.000000      5.000000\n",
       "75%       510.000000      5.000000\n",
       "max       714.000000     10.000000"
      ]
     },
     "execution_count": 6,
     "metadata": {},
     "output_type": "execute_result"
    }
   ],
   "source": [
    "offers.describe()"
   ]
  },
  {
   "cell_type": "code",
   "execution_count": 7,
   "metadata": {},
   "outputs": [],
   "source": [
    "offers = offers[offers.event.isin([\"offer received\", \"offer viewed\"])][['person', 'event', 'offer_id', 'time']]"
   ]
  },
  {
   "cell_type": "code",
   "execution_count": 21,
   "metadata": {},
   "outputs": [],
   "source": [
    "train_offers = offers[offers.time < 504]\n",
    "test_offers = offers[offers.time >= 504]\n",
    "train_transactions = transactions[transactions.time < 504].groupby(\"person\")[\"value\"].sum()\n",
    "test_transactions = transactions[transactions.time >= 504].groupby(\"person\")[\"value\"].sum()"
   ]
  },
  {
   "cell_type": "code",
   "execution_count": 22,
   "metadata": {},
   "outputs": [
    {
     "data": {
      "text/plain": [
       "person\n",
       "0009655768c64bdeb2e877511632db8f     30.73\n",
       "00116118485d4dfda04fdbaba9a87b5c      4.09\n",
       "0011e0d4e6b944f998e987f904e8c1e5     25.42\n",
       "0020c2b971eb4e9188eac86d93036a77     98.33\n",
       "0020ccbbb6d84e358d3414a3ff76cffd    136.26\n",
       "                                     ...  \n",
       "fff3ba4757bd42088c044ca26d73817a    148.84\n",
       "fff7576017104bcc8677a8d63322b5e1     16.05\n",
       "fff8957ea8b240a6b5e634b6ee8eafcf     11.26\n",
       "fffad4f4828548d1b5583907f2e9906b     50.64\n",
       "ffff82501cea40309d5fdd7edcca4a07    175.02\n",
       "Name: value, Length: 16058, dtype: float64"
      ]
     },
     "execution_count": 22,
     "metadata": {},
     "output_type": "execute_result"
    }
   ],
   "source": [
    "# train_offers\n",
    "train_transactions"
   ]
  },
  {
   "cell_type": "code",
   "execution_count": 23,
   "metadata": {},
   "outputs": [
    {
     "data": {
      "text/plain": [
       "person\n",
       "0009655768c64bdeb2e877511632db8f     96.87\n",
       "0011e0d4e6b944f998e987f904e8c1e5     54.04\n",
       "0020c2b971eb4e9188eac86d93036a77     98.53\n",
       "0020ccbbb6d84e358d3414a3ff76cffd     17.79\n",
       "003d66b6608740288d6cc97a6903f4f0     20.95\n",
       "                                     ...  \n",
       "fff3ba4757bd42088c044ca26d73817a    432.14\n",
       "fff7576017104bcc8677a8d63322b5e1     13.89\n",
       "fff8957ea8b240a6b5e634b6ee8eafcf      0.89\n",
       "fffad4f4828548d1b5583907f2e9906b     38.19\n",
       "ffff82501cea40309d5fdd7edcca4a07     51.05\n",
       "Name: value, Length: 15261, dtype: float64"
      ]
     },
     "execution_count": 23,
     "metadata": {},
     "output_type": "execute_result"
    }
   ],
   "source": [
    "test_transactions"
   ]
  },
  {
   "cell_type": "code",
   "execution_count": 24,
   "metadata": {},
   "outputs": [
    {
     "name": "stdout",
     "output_type": "stream",
     "text": [
      "45375\n",
      "45375\n",
      "45375\n"
     ]
    }
   ],
   "source": [
    "a = train_offers.pivot_table(index=['person', 'offer_id'], columns='event', aggfunc='size')\n",
    "print(len(a))\n",
    "a = a[a['offer received'] > 0]\n",
    "print(len(a))\n",
    "av = a['offer viewed'].fillna(0).clip(0, 1)\n",
    "av = pd.DataFrame(av)\n",
    "print(len(av))"
   ]
  },
  {
   "cell_type": "code",
   "execution_count": 25,
   "metadata": {},
   "outputs": [
    {
     "data": {
      "text/html": [
       "<div>\n",
       "<style scoped>\n",
       "    .dataframe tbody tr th:only-of-type {\n",
       "        vertical-align: middle;\n",
       "    }\n",
       "\n",
       "    .dataframe tbody tr th {\n",
       "        vertical-align: top;\n",
       "    }\n",
       "\n",
       "    .dataframe thead th {\n",
       "        text-align: right;\n",
       "    }\n",
       "</style>\n",
       "<table border=\"1\" class=\"dataframe\">\n",
       "  <thead>\n",
       "    <tr style=\"text-align: right;\">\n",
       "      <th></th>\n",
       "      <th></th>\n",
       "      <th>offer viewed</th>\n",
       "    </tr>\n",
       "    <tr>\n",
       "      <th>person</th>\n",
       "      <th>offer_id</th>\n",
       "      <th></th>\n",
       "    </tr>\n",
       "  </thead>\n",
       "  <tbody>\n",
       "    <tr>\n",
       "      <th rowspan=\"3\" valign=\"top\">0009655768c64bdeb2e877511632db8f</th>\n",
       "      <th>3f207df678b143eea3cee63160fa8bed</th>\n",
       "      <td>1.0</td>\n",
       "    </tr>\n",
       "    <tr>\n",
       "      <th>5a8bc65990b245e5a138643cd4eb9837</th>\n",
       "      <td>1.0</td>\n",
       "    </tr>\n",
       "    <tr>\n",
       "      <th>f19421c1d4aa40978ebb69ca19b0e20d</th>\n",
       "      <td>1.0</td>\n",
       "    </tr>\n",
       "    <tr>\n",
       "      <th>00116118485d4dfda04fdbaba9a87b5c</th>\n",
       "      <th>f19421c1d4aa40978ebb69ca19b0e20d</th>\n",
       "      <td>1.0</td>\n",
       "    </tr>\n",
       "    <tr>\n",
       "      <th>0011e0d4e6b944f998e987f904e8c1e5</th>\n",
       "      <th>0b1e1539f2cc45b7b9fa7c272da2e1d7</th>\n",
       "      <td>1.0</td>\n",
       "    </tr>\n",
       "    <tr>\n",
       "      <th>...</th>\n",
       "      <th>...</th>\n",
       "      <td>...</td>\n",
       "    </tr>\n",
       "    <tr>\n",
       "      <th rowspan=\"2\" valign=\"top\">fffad4f4828548d1b5583907f2e9906b</th>\n",
       "      <th>5a8bc65990b245e5a138643cd4eb9837</th>\n",
       "      <td>1.0</td>\n",
       "    </tr>\n",
       "    <tr>\n",
       "      <th>f19421c1d4aa40978ebb69ca19b0e20d</th>\n",
       "      <td>1.0</td>\n",
       "    </tr>\n",
       "    <tr>\n",
       "      <th rowspan=\"3\" valign=\"top\">ffff82501cea40309d5fdd7edcca4a07</th>\n",
       "      <th>0b1e1539f2cc45b7b9fa7c272da2e1d7</th>\n",
       "      <td>1.0</td>\n",
       "    </tr>\n",
       "    <tr>\n",
       "      <th>2906b810c7d4411798c6938adc9daaa5</th>\n",
       "      <td>1.0</td>\n",
       "    </tr>\n",
       "    <tr>\n",
       "      <th>fafdcd668e3743c1bb461111dcafc2a4</th>\n",
       "      <td>1.0</td>\n",
       "    </tr>\n",
       "  </tbody>\n",
       "</table>\n",
       "<p>45375 rows × 1 columns</p>\n",
       "</div>"
      ],
      "text/plain": [
       "                                                                   offer viewed\n",
       "person                           offer_id                                      \n",
       "0009655768c64bdeb2e877511632db8f 3f207df678b143eea3cee63160fa8bed           1.0\n",
       "                                 5a8bc65990b245e5a138643cd4eb9837           1.0\n",
       "                                 f19421c1d4aa40978ebb69ca19b0e20d           1.0\n",
       "00116118485d4dfda04fdbaba9a87b5c f19421c1d4aa40978ebb69ca19b0e20d           1.0\n",
       "0011e0d4e6b944f998e987f904e8c1e5 0b1e1539f2cc45b7b9fa7c272da2e1d7           1.0\n",
       "...                                                                         ...\n",
       "fffad4f4828548d1b5583907f2e9906b 5a8bc65990b245e5a138643cd4eb9837           1.0\n",
       "                                 f19421c1d4aa40978ebb69ca19b0e20d           1.0\n",
       "ffff82501cea40309d5fdd7edcca4a07 0b1e1539f2cc45b7b9fa7c272da2e1d7           1.0\n",
       "                                 2906b810c7d4411798c6938adc9daaa5           1.0\n",
       "                                 fafdcd668e3743c1bb461111dcafc2a4           1.0\n",
       "\n",
       "[45375 rows x 1 columns]"
      ]
     },
     "execution_count": 25,
     "metadata": {},
     "output_type": "execute_result"
    }
   ],
   "source": [
    "def get_view_probability(df):\n",
    "    offer_view_counts = df.pivot_table(index=['person', 'offer_id'], columns='event', aggfunc='size')\n",
    "    offer_view_counts = offer_view_counts[offer_view_counts['offer received'] > 0]\n",
    "    view_prob = offer_view_counts['offer viewed'].fillna(0)\n",
    "    view_prob = view_prob.clip(0, 1)\n",
    "    view_prob = pd.DataFrame(view_prob)\n",
    "    return view_prob\n",
    "\n",
    "get_view_probability(train_offers)"
   ]
  },
  {
   "cell_type": "code",
   "execution_count": 26,
   "metadata": {},
   "outputs": [],
   "source": [
    "train_set = get_view_probability(train_offers)\n",
    "test_set = get_view_probability(test_offers)"
   ]
  },
  {
   "cell_type": "code",
   "execution_count": 144,
   "metadata": {},
   "outputs": [],
   "source": [
    "train_set.to_csv(\"data/train.csv\")\n",
    "test_set.to_csv(\"data/test.csv\")"
   ]
  },
  {
   "cell_type": "code",
   "execution_count": 27,
   "metadata": {},
   "outputs": [
    {
     "data": {
      "text/plain": [
       "(16926, 15919, 15851)"
      ]
     },
     "execution_count": 27,
     "metadata": {},
     "output_type": "execute_result"
    }
   ],
   "source": [
    "train_persons = set([x[0] for x in train_set.index])\n",
    "test_persons = set([x[0] for x in test_set.index])\n",
    "intersects = train_persons & test_persons\n",
    "len(train_persons), len(test_persons), len(intersects)"
   ]
  },
  {
   "cell_type": "code",
   "execution_count": 29,
   "metadata": {},
   "outputs": [],
   "source": [
    "train_offers = offers[offers.time < 504]\n",
    "test_offers = offers[offers.time >= 504]\n",
    "train_transactions = transactions[transactions.time < 504].groupby(\"person\")[\"value\"].sum()\n",
    "test_transactions = transactions[transactions.time >= 504].groupby(\"person\")[\"value\"].sum()"
   ]
  },
  {
   "cell_type": "code",
   "execution_count": 30,
   "metadata": {},
   "outputs": [],
   "source": [
    "train_transactions.to_csv(\"data/train_transactions.csv\")\n",
    "test_transactions.to_csv(\"data/test_trasactions.csv\")"
   ]
  }
 ],
 "metadata": {
  "kernelspec": {
   "display_name": "Python 3",
   "language": "python",
   "name": "python3"
  },
  "language_info": {
   "codemirror_mode": {
    "name": "ipython",
    "version": 3
   },
   "file_extension": ".py",
   "mimetype": "text/x-python",
   "name": "python",
   "nbconvert_exporter": "python",
   "pygments_lexer": "ipython3",
   "version": "3.6.10"
  }
 },
 "nbformat": 4,
 "nbformat_minor": 4
}
