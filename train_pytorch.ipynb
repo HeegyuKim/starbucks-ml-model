{
 "cells": [
  {
   "cell_type": "code",
   "execution_count": 145,
   "metadata": {},
   "outputs": [],
   "source": [
    "import numpy as np\n",
    "import pandas as pd\n",
    "import matplotlib.pyplot as plt\n",
    "\n",
    "%matplotlib inline\n",
    "\n",
    "import torch\n",
    "import torch.nn as nn\n",
    "import torch.nn.functional as F\n",
    "from sklearn.metrics import confusion_matrix, classification_report\n",
    "from torch.utils.data import TensorDataset, DataLoader\n",
    "\n",
    "import visdom"
   ]
  },
  {
   "cell_type": "code",
   "execution_count": 146,
   "metadata": {},
   "outputs": [
    {
     "name": "stderr",
     "output_type": "stream",
     "text": [
      "Setting up a new session...\n"
     ]
    }
   ],
   "source": [
    "vis = visdom.Visdom()"
   ]
  },
  {
   "cell_type": "code",
   "execution_count": 2,
   "metadata": {},
   "outputs": [],
   "source": [
    "profile = pd.read_csv(\"data/profile.csv\")\n",
    "portfolio = pd.read_csv(\"data/portfolio-dummy.csv\")\n",
    "train_set = pd.read_csv(\"data/train.csv\")\n",
    "test_set = pd.read_csv(\"data/test.csv\")"
   ]
  },
  {
   "cell_type": "code",
   "execution_count": 3,
   "metadata": {},
   "outputs": [],
   "source": [
    "def encode_dataset(df, shuffle=False):\n",
    "    df = df.merge(profile, left_on='person', right_on='id') \\\n",
    "        .merge(portfolio, left_on='offer_id', right_on=\"id\")\n",
    "    if shuffle:\n",
    "        df = df.sample(frac=1)\n",
    "    df.index = df[['person', 'offer_id']]\n",
    "    y = df['offer viewed']\n",
    "    df = df.drop(columns=['person', 'offer_id', 'id_x', 'id_y', 'index', 'offer viewed'])\n",
    "    return df, y\n",
    "\n",
    "X_train, y_train = encode_dataset(train_set)\n",
    "X_test, y_test = encode_dataset(test_set)"
   ]
  },
  {
   "cell_type": "code",
   "execution_count": 4,
   "metadata": {},
   "outputs": [],
   "source": [
    "user_to_index = {id: i for i, id in enumerate(profile.id)}\n",
    "portfolio_to_index = {id: i for i, id in enumerate(portfolio.id)}"
   ]
  },
  {
   "cell_type": "code",
   "execution_count": 5,
   "metadata": {},
   "outputs": [
    {
     "data": {
      "text/plain": [
       "{'0b1e1539f2cc45b7b9fa7c272da2e1d7': 0,\n",
       " '2298d6c36e964ae4a3e7e9706d1fb8c2': 1,\n",
       " '2906b810c7d4411798c6938adc9daaa5': 2,\n",
       " '3f207df678b143eea3cee63160fa8bed': 3,\n",
       " '4d5c57ea9a6940dd891ad53e9dbe8da0': 4,\n",
       " '5a8bc65990b245e5a138643cd4eb9837': 5,\n",
       " '9b98b8c7a33c4b65b9aebfe6a799e6d9': 6,\n",
       " 'ae264e3637204a6fb9bb56bc8210ddfd': 7,\n",
       " 'f19421c1d4aa40978ebb69ca19b0e20d': 8,\n",
       " 'fafdcd668e3743c1bb461111dcafc2a4': 9}"
      ]
     },
     "execution_count": 5,
     "metadata": {},
     "output_type": "execute_result"
    }
   ],
   "source": [
    "# user_to_index\n",
    "portfolio_to_index"
   ]
  },
  {
   "cell_type": "code",
   "execution_count": 6,
   "metadata": {},
   "outputs": [
    {
     "data": {
      "text/plain": [
       "18"
      ]
     },
     "execution_count": 6,
     "metadata": {},
     "output_type": "execute_result"
    }
   ],
   "source": [
    "X_train.columns.shape[0]"
   ]
  },
  {
   "cell_type": "code",
   "execution_count": 21,
   "metadata": {},
   "outputs": [],
   "source": [
    "    \n",
    "def get_user_offers(index):\n",
    "    users = [user_to_index[x[0]] for x in index]\n",
    "    offers = [portfolio_to_index[x[1]] for x in index]\n",
    "\n",
    "    return users, offers\n",
    "    \n",
    "class UserOfferClickDataset(torch.utils.data.Dataset):\n",
    "    def __init__(self, X, y):\n",
    "        \n",
    "        users, offers = get_user_offers(X.index)\n",
    "        self.users = torch.tensor(users, dtype=torch.int64)\n",
    "        self.offers = torch.tensor(offers, dtype=torch.int64)\n",
    "        self.X = torch.tensor(X.to_numpy(), dtype=torch.float32)\n",
    "        self.y = torch.tensor(y, dtype=torch.float32)\n",
    "        self.length = len(X)\n",
    "        \n",
    "    def __len__(self):\n",
    "        return self.length\n",
    "    \n",
    "    def __getitem__(self, i):\n",
    "        return self.X[i], self.users[i], self.offers[i], self.y[i]"
   ]
  },
  {
   "cell_type": "code",
   "execution_count": 132,
   "metadata": {},
   "outputs": [],
   "source": [
    "train_set = UserOfferClickDataset(X_train, y_train)\n",
    "test_set = UserOfferClickDataset(X_test, y_test)"
   ]
  },
  {
   "cell_type": "code",
   "execution_count": 37,
   "metadata": {},
   "outputs": [],
   "source": [
    "dev = 'cuda'"
   ]
  },
  {
   "cell_type": "code",
   "execution_count": 194,
   "metadata": {},
   "outputs": [],
   "source": [
    "class LinearModel(nn.Module):\n",
    "    \n",
    "    def __init__(self, feature_dim=18, user_emb_dim=16, offer_emb_dim=4, fc_size=64):\n",
    "        super().__init__()\n",
    "        \n",
    "        self.user_emb = nn.Embedding(len(user_to_index), embedding_dim=user_emb_dim)\n",
    "        self.offer_emb = nn.Embedding(len(portfolio_to_index), embedding_dim=offer_emb_dim)\n",
    "        \n",
    "        input_size = feature_dim + user_emb_dim + offer_emb_dim\n",
    "        self.bnX = torch.nn.BatchNorm1d(feature_dim)\n",
    "        # 18 + user_emb_dim + offer_emb_dim\n",
    "        self.nn = nn.Sequential(\n",
    "            nn.Linear(input_size, fc_size, bias=True),\n",
    "            nn.LeakyReLU(),\n",
    "            nn.Linear(fc_size, 1, bias=True),\n",
    "            nn.Sigmoid()\n",
    "        )\n",
    "    \n",
    "    def forward(self, users, offers, X):      \n",
    "        users = self.user_emb(users)\n",
    "        offers = self.offer_emb(offers)\n",
    "        X = self.bnX(X)\n",
    "        \n",
    "        X = torch.cat([users, offers, X], dim=1)\n",
    "        y = self.nn(X)\n",
    "        return y"
   ]
  },
  {
   "cell_type": "code",
   "execution_count": 199,
   "metadata": {},
   "outputs": [],
   "source": [
    "model = LinearModel()"
   ]
  },
  {
   "cell_type": "code",
   "execution_count": 202,
   "metadata": {},
   "outputs": [],
   "source": [
    "\n",
    "def iterate(model, loader, dev, train):\n",
    "    if train:\n",
    "        model.train()\n",
    "        opt = torch.optim.Adam(model.parameters(), lr=0.001)\n",
    "        \n",
    "    else:\n",
    "        model.eval()\n",
    "        \n",
    "    total_loss = 0\n",
    "    \n",
    "    for X, users, offers, y in loader:\n",
    "        X = X.to(dev)\n",
    "        users = users.to(dev)\n",
    "        offers = offers.to(dev)\n",
    "        y = y.view(-1, 1).to(dev)\n",
    "\n",
    "        y_pred = model(users, offers, X)\n",
    "        loss = F.binary_cross_entropy(y_pred, y)\n",
    "        \n",
    "        total_loss += loss.item()\n",
    "\n",
    "        if train:\n",
    "            opt.zero_grad()\n",
    "            loss.backward()\n",
    "            opt.step()\n",
    "    \n",
    "    return total_loss\n",
    "\n",
    "\n",
    "def train_test(vis, name, model, loader, val_loader, epochs=100, dev='cuda'):\n",
    "    \n",
    "    train_losses = []\n",
    "    val_losses = []\n",
    "    \n",
    "    model.train()\n",
    "    train_win = \"train loss\"\n",
    "    val_win = \"val loss\"\n",
    "    \n",
    "    for i in range(epochs):\n",
    "        \n",
    "        train_loss = iterate(model, loader, dev, True)\n",
    "        val_loss = iterate(model, val_loader, dev, False)\n",
    "        \n",
    "        train_losses.append(train_loss)\n",
    "        val_losses.append(val_loss)\n",
    "        \n",
    "        \n",
    "        X = list(range(i + 1))\n",
    "        \n",
    "        train_win = vis.line(Y=train_losses, X=X, win=train_win, name=\"train\")\n",
    "        val_win = vis.line(Y=val_losses, X=X, win=val_win, name=\"val\")\n",
    "\n",
    "    return train_losses, val_losses"
   ]
  },
  {
   "cell_type": "code",
   "execution_count": 203,
   "metadata": {},
   "outputs": [],
   "source": [
    "dev = 'cuda'"
   ]
  },
  {
   "cell_type": "code",
   "execution_count": 204,
   "metadata": {
    "scrolled": true
   },
   "outputs": [
    {
     "data": {
      "text/plain": [
       "([8.43303495645523,\n",
       "  7.364043235778809,\n",
       "  6.579260945320129,\n",
       "  6.000435322523117,\n",
       "  5.569187134504318,\n",
       "  5.30958417057991,\n",
       "  5.134786069393158,\n",
       "  4.984393209218979,\n",
       "  4.898108035326004,\n",
       "  4.769923001527786,\n",
       "  4.725673705339432,\n",
       "  4.699775367975235,\n",
       "  4.669571131467819,\n",
       "  4.645609587430954,\n",
       "  4.635508120059967,\n",
       "  4.597072273492813,\n",
       "  4.550907701253891,\n",
       "  4.5831411480903625,\n",
       "  4.526882886886597,\n",
       "  4.555614650249481,\n",
       "  4.515269547700882,\n",
       "  4.522534161806107,\n",
       "  4.502939343452454,\n",
       "  4.504444390535355,\n",
       "  4.475520640611649,\n",
       "  4.4278139770030975,\n",
       "  4.453568607568741,\n",
       "  4.4231283366680145,\n",
       "  4.3459406197071075,\n",
       "  4.375648409128189],\n",
       " [27.391486883163452,\n",
       "  24.199343621730804,\n",
       "  14.253266870975494,\n",
       "  11.887653857469559,\n",
       "  11.429375499486923,\n",
       "  11.090698778629303,\n",
       "  10.768241733312607,\n",
       "  10.50392472743988,\n",
       "  10.299353301525116,\n",
       "  10.194581925868988,\n",
       "  10.124081254005432,\n",
       "  10.099911212921143,\n",
       "  10.07095181941986,\n",
       "  10.056556552648544,\n",
       "  10.06528753042221,\n",
       "  10.041175901889801,\n",
       "  10.052240937948227,\n",
       "  9.999954223632812,\n",
       "  10.02911701798439,\n",
       "  9.995945543050766,\n",
       "  9.974160701036453,\n",
       "  9.991185128688812,\n",
       "  9.988991349935532,\n",
       "  9.954466342926025,\n",
       "  9.950930505990982,\n",
       "  9.951915800571442,\n",
       "  9.935924619436264,\n",
       "  9.924232542514801,\n",
       "  9.940049886703491,\n",
       "  9.946272283792496])"
      ]
     },
     "execution_count": 204,
     "metadata": {},
     "output_type": "execute_result"
    }
   ],
   "source": [
    "torch.cuda.empty_cache()\n",
    "train_loader = DataLoader(train_set, batch_size=4096, shuffle=True)\n",
    "test_loader = DataLoader(test_set, batch_size=1024, shuffle=True)\n",
    "\n",
    "model = model.to(dev)\n",
    "train_test(vis, \"default\", model, train_loader, test_loader, epochs=30, dev=dev)"
   ]
  },
  {
   "cell_type": "code",
   "execution_count": 207,
   "metadata": {},
   "outputs": [],
   "source": [
    "\n",
    "def evaluate(name, model, loader):\n",
    "    model.eval().cpu()\n",
    "    \n",
    "    pred = []\n",
    "    real = []\n",
    "    \n",
    "    for X, users, offers, y in loader:\n",
    "        y_pred = model(users, offers, X).squeeze().round().tolist()\n",
    "        pred.extend(y_pred)\n",
    "        real.extend(y.tolist())\n",
    "        \n",
    "    print(\"Classification Report for\", name)\n",
    "    print(\"Accuracy: \", np.sum([x == y for x, y in zip(pred, real)]) / len(pred))\n",
    "    print(classification_report(pred, real))\n",
    "        "
   ]
  },
  {
   "cell_type": "code",
   "execution_count": 208,
   "metadata": {},
   "outputs": [
    {
     "name": "stdout",
     "output_type": "stream",
     "text": [
      "Classification Report for model train\n",
      "Accuracy:  0.8342038567493113\n",
      "              precision    recall  f1-score   support\n",
      "\n",
      "         0.0       0.52      0.69      0.59      7876\n",
      "         1.0       0.93      0.87      0.90     37499\n",
      "\n",
      "    accuracy                           0.83     45375\n",
      "   macro avg       0.72      0.78      0.74     45375\n",
      "weighted avg       0.86      0.83      0.84     45375\n",
      "\n",
      "Classification Report for model test\n",
      "Accuracy:  0.8018433179723502\n",
      "              precision    recall  f1-score   support\n",
      "\n",
      "         0.0       0.44      0.65      0.52      4079\n",
      "         1.0       0.92      0.83      0.87     20442\n",
      "\n",
      "    accuracy                           0.80     24521\n",
      "   macro avg       0.68      0.74      0.70     24521\n",
      "weighted avg       0.84      0.80      0.82     24521\n",
      "\n"
     ]
    }
   ],
   "source": [
    "evaluate(\"model train\", model, train_loader)\n",
    "evaluate(\"model test\", model, test_loader)"
   ]
  }
 ],
 "metadata": {
  "kernelspec": {
   "display_name": "Python 3",
   "language": "python",
   "name": "python3"
  },
  "language_info": {
   "codemirror_mode": {
    "name": "ipython",
    "version": 3
   },
   "file_extension": ".py",
   "mimetype": "text/x-python",
   "name": "python",
   "nbconvert_exporter": "python",
   "pygments_lexer": "ipython3",
   "version": "3.6.10"
  }
 },
 "nbformat": 4,
 "nbformat_minor": 4
}
