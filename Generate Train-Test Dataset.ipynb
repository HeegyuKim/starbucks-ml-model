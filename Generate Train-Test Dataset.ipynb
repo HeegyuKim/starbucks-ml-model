{
 "cells": [
  {
   "cell_type": "markdown",
   "metadata": {},
   "source": [
    "# Generate Train-Test Dataset\n",
    "Generate train/test dataset for model training"
   ]
  },
  {
   "cell_type": "code",
   "execution_count": 2,
   "metadata": {},
   "outputs": [],
   "source": [
    "import pandas as pd\n",
    "import numpy as np\n",
    "import math\n",
    "import json\n",
    "%matplotlib inline\n",
    "\n",
    "# read in the json files\n",
    "portfolio = pd.read_json('data/portfolio.json', orient='records', lines=True)\n",
    "profile = pd.read_json('data/profile.json', orient='records', lines=True)\n",
    "transcript = pd.read_json('data/transcript.json', orient='records', lines=True)"
   ]
  },
  {
   "cell_type": "code",
   "execution_count": 7,
   "metadata": {},
   "outputs": [],
   "source": [
    "def get_view_probability(df):\n",
    "    offer_view_counts = df.pivot_table(index=['person', 'offer_id'], columns='event', aggfunc='size')\n",
    "    offer_view_counts = offer_view_counts[offer_view_counts['offer received'] > 0]\n",
    "    view_prob = offer_view_counts['offer viewed'].fillna(0)\n",
    "    view_prob = view_prob.clip(0, 1)\n",
    "    view_prob = pd.DataFrame(view_prob)\n",
    "    return view_prob"
   ]
  },
  {
   "cell_type": "code",
   "execution_count": 12,
   "metadata": {
    "scrolled": true
   },
   "outputs": [
    {
     "data": {
      "text/plain": [
       "(                                                                   offer viewed\n",
       " person                           offer_id                                      \n",
       " 0009655768c64bdeb2e877511632db8f 3f207df678b143eea3cee63160fa8bed           1.0\n",
       "                                  5a8bc65990b245e5a138643cd4eb9837           1.0\n",
       "                                  f19421c1d4aa40978ebb69ca19b0e20d           1.0\n",
       " 00116118485d4dfda04fdbaba9a87b5c f19421c1d4aa40978ebb69ca19b0e20d           1.0\n",
       " 0011e0d4e6b944f998e987f904e8c1e5 0b1e1539f2cc45b7b9fa7c272da2e1d7           1.0\n",
       " ...                                                                         ...\n",
       " fffad4f4828548d1b5583907f2e9906b 5a8bc65990b245e5a138643cd4eb9837           1.0\n",
       "                                  f19421c1d4aa40978ebb69ca19b0e20d           1.0\n",
       " ffff82501cea40309d5fdd7edcca4a07 0b1e1539f2cc45b7b9fa7c272da2e1d7           1.0\n",
       "                                  2906b810c7d4411798c6938adc9daaa5           1.0\n",
       "                                  fafdcd668e3743c1bb461111dcafc2a4           1.0\n",
       " \n",
       " [45375 rows x 1 columns],\n",
       "                                                                    offer viewed\n",
       " person                           offer_id                                      \n",
       " 0009655768c64bdeb2e877511632db8f 2906b810c7d4411798c6938adc9daaa5           0.0\n",
       "                                  fafdcd668e3743c1bb461111dcafc2a4           1.0\n",
       " 00116118485d4dfda04fdbaba9a87b5c f19421c1d4aa40978ebb69ca19b0e20d           1.0\n",
       " 0011e0d4e6b944f998e987f904e8c1e5 9b98b8c7a33c4b65b9aebfe6a799e6d9           1.0\n",
       " 0020c2b971eb4e9188eac86d93036a77 5a8bc65990b245e5a138643cd4eb9837           1.0\n",
       " ...                                                                         ...\n",
       " fff8957ea8b240a6b5e634b6ee8eafcf 3f207df678b143eea3cee63160fa8bed           0.0\n",
       "                                  4d5c57ea9a6940dd891ad53e9dbe8da0           1.0\n",
       " fffad4f4828548d1b5583907f2e9906b 9b98b8c7a33c4b65b9aebfe6a799e6d9           1.0\n",
       " ffff82501cea40309d5fdd7edcca4a07 2906b810c7d4411798c6938adc9daaa5           1.0\n",
       "                                  9b98b8c7a33c4b65b9aebfe6a799e6d9           1.0\n",
       " \n",
       " [24521 rows x 1 columns],\n",
       " person\n",
       " 0009655768c64bdeb2e877511632db8f     30.73\n",
       " 00116118485d4dfda04fdbaba9a87b5c      4.09\n",
       " 0011e0d4e6b944f998e987f904e8c1e5     25.42\n",
       " 0020c2b971eb4e9188eac86d93036a77     98.33\n",
       " 0020ccbbb6d84e358d3414a3ff76cffd    136.26\n",
       "                                      ...  \n",
       " fff3ba4757bd42088c044ca26d73817a    148.84\n",
       " fff7576017104bcc8677a8d63322b5e1     16.05\n",
       " fff8957ea8b240a6b5e634b6ee8eafcf     11.26\n",
       " fffad4f4828548d1b5583907f2e9906b     50.64\n",
       " ffff82501cea40309d5fdd7edcca4a07    175.02\n",
       " Name: amount, Length: 16058, dtype: float64,\n",
       " person\n",
       " 0009655768c64bdeb2e877511632db8f     96.87\n",
       " 0011e0d4e6b944f998e987f904e8c1e5     54.04\n",
       " 0020c2b971eb4e9188eac86d93036a77     98.53\n",
       " 0020ccbbb6d84e358d3414a3ff76cffd     17.79\n",
       " 003d66b6608740288d6cc97a6903f4f0     20.95\n",
       "                                      ...  \n",
       " fff3ba4757bd42088c044ca26d73817a    432.14\n",
       " fff7576017104bcc8677a8d63322b5e1     13.89\n",
       " fff8957ea8b240a6b5e634b6ee8eafcf      0.89\n",
       " fffad4f4828548d1b5583907f2e9906b     38.19\n",
       " ffff82501cea40309d5fdd7edcca4a07     51.05\n",
       " Name: amount, Length: 15261, dtype: float64)"
      ]
     },
     "execution_count": 12,
     "metadata": {},
     "output_type": "execute_result"
    }
   ],
   "source": [
    "def prepare_train_test(transcript, profile, portfolio):\n",
    "    transactions = pd.read_csv(\"data/transactions.csv\", index_col=0)\n",
    "    offers = pd.read_csv(\"data/offers.csv\", index_col=0)\n",
    "    offers = offers[offers.event.isin([\"offer received\", \"offer viewed\"])][['person', 'event', 'offer_id', 'time']]\n",
    "    \n",
    "    train_offers = offers[offers.time < 504]\n",
    "    test_offers = offers[offers.time >= 504]\n",
    "    train_transactions = transactions[transactions.time < 504].groupby(\"person\")[\"amount\"].sum()\n",
    "    test_transactions = transactions[transactions.time >= 504].groupby(\"person\")[\"amount\"].sum()\n",
    "\n",
    "    train_set = get_view_probability(train_offers)\n",
    "    test_set = get_view_probability(test_offers)\n",
    "    \n",
    "    # save X(user, portfolio), y(viewed - 1 or 0) train/test set\n",
    "    train_set.to_csv(\"data/train.csv\")\n",
    "    test_set.to_csv(\"data/test.csv\")\n",
    "\n",
    "    # save person-total transaction dataset for train/test\n",
    "    train_transactions.to_csv(\"data/train_transactions.csv\")\n",
    "    test_transactions.to_csv(\"data/test_transactions.csv\")\n",
    "\n",
    "    return train_set, test_set, train_transactions, test_transactions\n",
    "\n",
    "prepare_train_test(transcript, profile, portfolio)"
   ]
  },
  {
   "cell_type": "code",
   "execution_count": 30,
   "metadata": {},
   "outputs": [],
   "source": [
    "train_transactions.to_csv(\"data/train_transactions.csv\")\n",
    "test_transactions.to_csv(\"data/test_trasactions.csv\")"
   ]
  }
 ],
 "metadata": {
  "kernelspec": {
   "display_name": "Python 3",
   "language": "python",
   "name": "python3"
  },
  "language_info": {
   "codemirror_mode": {
    "name": "ipython",
    "version": 3
   },
   "file_extension": ".py",
   "mimetype": "text/x-python",
   "name": "python",
   "nbconvert_exporter": "python",
   "pygments_lexer": "ipython3",
   "version": "3.6.10"
  }
 },
 "nbformat": 4,
 "nbformat_minor": 4
}
