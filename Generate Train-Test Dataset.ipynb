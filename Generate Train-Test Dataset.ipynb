{
 "cells": [
  {
   "cell_type": "markdown",
   "metadata": {},
   "source": [
    "# Generate Train-Test Dataset\n",
    "Generate train/test dataset for model training"
   ]
  },
  {
   "cell_type": "code",
   "execution_count": 5,
   "metadata": {},
   "outputs": [],
   "source": [
    "import pandas as pd\n",
    "import numpy as np\n",
    "import math\n",
    "import json\n",
    "%matplotlib inline\n",
    "\n",
    "# read in the json files\n",
    "portfolio = pd.read_json('data/portfolio.json', orient='records', lines=True)\n",
    "profile = pd.read_json('data/profile.json', orient='records', lines=True)\n",
    "transcript = pd.read_json('data/transcript.json', orient='records', lines=True)"
   ]
  },
  {
   "cell_type": "code",
   "execution_count": 6,
   "metadata": {},
   "outputs": [],
   "source": [
    "def get_view_probability(df):\n",
    "    offer_view_counts = df.pivot_table(index=['person', 'offer_id'], columns='event', aggfunc='size')\n",
    "    offer_view_counts = offer_view_counts[offer_view_counts['offer received'] > 0]\n",
    "    view_prob = offer_view_counts['offer viewed'].fillna(0)\n",
    "    view_prob = view_prob.clip(0, 1)\n",
    "    view_prob = pd.DataFrame(view_prob)\n",
    "    return view_prob"
   ]
  },
  {
   "cell_type": "code",
   "execution_count": 7,
   "metadata": {
    "scrolled": true
   },
   "outputs": [
    {
     "data": {
      "text/html": [
       "<div>\n",
       "<style scoped>\n",
       "    .dataframe tbody tr th:only-of-type {\n",
       "        vertical-align: middle;\n",
       "    }\n",
       "\n",
       "    .dataframe tbody tr th {\n",
       "        vertical-align: top;\n",
       "    }\n",
       "\n",
       "    .dataframe thead th {\n",
       "        text-align: right;\n",
       "    }\n",
       "</style>\n",
       "<table border=\"1\" class=\"dataframe\">\n",
       "  <thead>\n",
       "    <tr style=\"text-align: right;\">\n",
       "      <th></th>\n",
       "      <th></th>\n",
       "      <th>offer viewed</th>\n",
       "    </tr>\n",
       "    <tr>\n",
       "      <th>person</th>\n",
       "      <th>offer_id</th>\n",
       "      <th></th>\n",
       "    </tr>\n",
       "  </thead>\n",
       "  <tbody>\n",
       "    <tr>\n",
       "      <th rowspan=\"3\" valign=\"top\">0009655768c64bdeb2e877511632db8f</th>\n",
       "      <th>3f207df678b143eea3cee63160fa8bed</th>\n",
       "      <td>1.0</td>\n",
       "    </tr>\n",
       "    <tr>\n",
       "      <th>5a8bc65990b245e5a138643cd4eb9837</th>\n",
       "      <td>1.0</td>\n",
       "    </tr>\n",
       "    <tr>\n",
       "      <th>f19421c1d4aa40978ebb69ca19b0e20d</th>\n",
       "      <td>1.0</td>\n",
       "    </tr>\n",
       "    <tr>\n",
       "      <th>00116118485d4dfda04fdbaba9a87b5c</th>\n",
       "      <th>f19421c1d4aa40978ebb69ca19b0e20d</th>\n",
       "      <td>1.0</td>\n",
       "    </tr>\n",
       "    <tr>\n",
       "      <th>0011e0d4e6b944f998e987f904e8c1e5</th>\n",
       "      <th>0b1e1539f2cc45b7b9fa7c272da2e1d7</th>\n",
       "      <td>1.0</td>\n",
       "    </tr>\n",
       "    <tr>\n",
       "      <th>...</th>\n",
       "      <th>...</th>\n",
       "      <td>...</td>\n",
       "    </tr>\n",
       "    <tr>\n",
       "      <th rowspan=\"2\" valign=\"top\">fffad4f4828548d1b5583907f2e9906b</th>\n",
       "      <th>5a8bc65990b245e5a138643cd4eb9837</th>\n",
       "      <td>1.0</td>\n",
       "    </tr>\n",
       "    <tr>\n",
       "      <th>f19421c1d4aa40978ebb69ca19b0e20d</th>\n",
       "      <td>1.0</td>\n",
       "    </tr>\n",
       "    <tr>\n",
       "      <th rowspan=\"3\" valign=\"top\">ffff82501cea40309d5fdd7edcca4a07</th>\n",
       "      <th>0b1e1539f2cc45b7b9fa7c272da2e1d7</th>\n",
       "      <td>1.0</td>\n",
       "    </tr>\n",
       "    <tr>\n",
       "      <th>2906b810c7d4411798c6938adc9daaa5</th>\n",
       "      <td>1.0</td>\n",
       "    </tr>\n",
       "    <tr>\n",
       "      <th>fafdcd668e3743c1bb461111dcafc2a4</th>\n",
       "      <td>1.0</td>\n",
       "    </tr>\n",
       "  </tbody>\n",
       "</table>\n",
       "<p>45375 rows × 1 columns</p>\n",
       "</div>"
      ],
      "text/plain": [
       "                                                                   offer viewed\n",
       "person                           offer_id                                      \n",
       "0009655768c64bdeb2e877511632db8f 3f207df678b143eea3cee63160fa8bed           1.0\n",
       "                                 5a8bc65990b245e5a138643cd4eb9837           1.0\n",
       "                                 f19421c1d4aa40978ebb69ca19b0e20d           1.0\n",
       "00116118485d4dfda04fdbaba9a87b5c f19421c1d4aa40978ebb69ca19b0e20d           1.0\n",
       "0011e0d4e6b944f998e987f904e8c1e5 0b1e1539f2cc45b7b9fa7c272da2e1d7           1.0\n",
       "...                                                                         ...\n",
       "fffad4f4828548d1b5583907f2e9906b 5a8bc65990b245e5a138643cd4eb9837           1.0\n",
       "                                 f19421c1d4aa40978ebb69ca19b0e20d           1.0\n",
       "ffff82501cea40309d5fdd7edcca4a07 0b1e1539f2cc45b7b9fa7c272da2e1d7           1.0\n",
       "                                 2906b810c7d4411798c6938adc9daaa5           1.0\n",
       "                                 fafdcd668e3743c1bb461111dcafc2a4           1.0\n",
       "\n",
       "[45375 rows x 1 columns]"
      ]
     },
     "execution_count": 7,
     "metadata": {},
     "output_type": "execute_result"
    }
   ],
   "source": [
    "def prepare_train_test(transcript, profile, portfolio):\n",
    "    transactions = pd.read_csv(\"data/transactions.csv\", index_col=0)\n",
    "    offers = pd.read_csv(\"data/offers.csv\", index_col=0)\n",
    "    offers = offers[offers.event.isin([\"offer received\", \"offer viewed\"])][['person', 'event', 'offer_id', 'time']]\n",
    "    \n",
    "    train_offers = offers[offers.time < 504]\n",
    "    test_offers = offers[offers.time >= 504]\n",
    "    train_transactions = transactions[transactions.time < 504].groupby(\"person\")[\"amount\"].sum()\n",
    "    test_transactions = transactions[transactions.time >= 504].groupby(\"person\")[\"amount\"].sum()\n",
    "\n",
    "    train_set = get_view_probability(train_offers)\n",
    "    test_set = get_view_probability(test_offers)\n",
    "    \n",
    "    # save X(user, portfolio), y(viewed - 1 or 0) train/test set\n",
    "    train_set.to_csv(\"data/train.csv\")\n",
    "    test_set.to_csv(\"data/test.csv\")\n",
    "\n",
    "    # save person-total transaction dataset for train/test\n",
    "    train_transactions.to_csv(\"data/train_transactions.csv\")\n",
    "    test_transactions.to_csv(\"data/test_transactions.csv\")\n",
    "\n",
    "    return train_set, test_set, train_transactions, test_transactions\n",
    "\n",
    "train, test, _, _ = prepare_train_test(transcript, profile, portfolio)"
   ]
  },
  {
   "cell_type": "code",
   "execution_count": 8,
   "metadata": {},
   "outputs": [
    {
     "ename": "NameError",
     "evalue": "name 'train_transactions' is not defined",
     "output_type": "error",
     "traceback": [
      "\u001b[0;31m---------------------------------------------------------------------------\u001b[0m",
      "\u001b[0;31mNameError\u001b[0m                                 Traceback (most recent call last)",
      "\u001b[0;32m<ipython-input-8-b650585276d4>\u001b[0m in \u001b[0;36m<module>\u001b[0;34m\u001b[0m\n\u001b[0;32m----> 1\u001b[0;31m \u001b[0mtrain_transactions\u001b[0m\u001b[0;34m.\u001b[0m\u001b[0mto_csv\u001b[0m\u001b[0;34m(\u001b[0m\u001b[0;34m\"data/train_transactions.csv\"\u001b[0m\u001b[0;34m)\u001b[0m\u001b[0;34m\u001b[0m\u001b[0;34m\u001b[0m\u001b[0m\n\u001b[0m\u001b[1;32m      2\u001b[0m \u001b[0mtest_transactions\u001b[0m\u001b[0;34m.\u001b[0m\u001b[0mto_csv\u001b[0m\u001b[0;34m(\u001b[0m\u001b[0;34m\"data/test_trasactions.csv\"\u001b[0m\u001b[0;34m)\u001b[0m\u001b[0;34m\u001b[0m\u001b[0;34m\u001b[0m\u001b[0m\n",
      "\u001b[0;31mNameError\u001b[0m: name 'train_transactions' is not defined"
     ]
    }
   ],
   "source": [
    "train_transactions.to_csv(\"data/train_transactions.csv\")\n",
    "test_transactions.to_csv(\"data/test_trasactions.csv\")"
   ]
  }
 ],
 "metadata": {
  "kernelspec": {
   "display_name": "Python 3",
   "language": "python",
   "name": "python3"
  },
  "language_info": {
   "codemirror_mode": {
    "name": "ipython",
    "version": 3
   },
   "file_extension": ".py",
   "mimetype": "text/x-python",
   "name": "python",
   "nbconvert_exporter": "python",
   "pygments_lexer": "ipython3",
   "version": "3.6.10"
  }
 },
 "nbformat": 4,
 "nbformat_minor": 4
}
